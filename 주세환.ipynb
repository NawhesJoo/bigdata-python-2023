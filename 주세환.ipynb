{
 "cells": [
  {
   "attachments": {},
   "cell_type": "markdown",
   "metadata": {},
   "source": [
    "##### 1번"
   ]
  },
  {
   "cell_type": "code",
   "execution_count": 8,
   "metadata": {},
   "outputs": [
    {
     "name": "stdout",
     "output_type": "stream",
     "text": [
      "남성입니다.\n"
     ]
    }
   ],
   "source": [
    "gender = 1\n",
    "if gender in [1,3,5] : print(\"남성입니다.\")\n",
    "elif gender in [2,4,6] : print(\"여성입니다.\")"
   ]
  },
  {
   "attachments": {},
   "cell_type": "markdown",
   "metadata": {},
   "source": [
    "##### 2번"
   ]
  },
  {
   "cell_type": "code",
   "execution_count": 12,
   "metadata": {},
   "outputs": [
    {
     "name": "stdout",
     "output_type": "stream",
     "text": [
      "월요일\n"
     ]
    }
   ],
   "source": [
    "day = 'MON'\n",
    "if day == 'MON' : print('월요일')\n",
    "elif day == 'TUE' : print('화요일')\n",
    "elif day == 'WED' : print('수요일')\n",
    "elif day == 'TUR' : print('목요일')\n",
    "elif day == 'FRI' : print('금요일')\n",
    "elif day == 'SAT' : print('토요일')\n",
    "elif day == 'SUN' : print('일요일')"
   ]
  },
  {
   "attachments": {},
   "cell_type": "markdown",
   "metadata": {},
   "source": [
    "##### 3번"
   ]
  },
  {
   "cell_type": "code",
   "execution_count": 14,
   "metadata": {},
   "outputs": [
    {
     "name": "stdout",
     "output_type": "stream",
     "text": [
      "애들은 가라\n"
     ]
    }
   ],
   "source": [
    "age = 19\n",
    "if age < 20 : print('애들은 가라')\n",
    "else : print('어서오십시오, 손님~!!')"
   ]
  },
  {
   "attachments": {},
   "cell_type": "markdown",
   "metadata": {},
   "source": [
    "##### 4번"
   ]
  },
  {
   "cell_type": "code",
   "execution_count": 26,
   "metadata": {},
   "outputs": [
    {
     "name": "stdout",
     "output_type": "stream",
     "text": [
      "result.txt이(가) 생성되었습니다.\n"
     ]
    }
   ],
   "source": [
    "filename = 'result.txt'\n",
    "\n",
    "# 파일에 결과를 저장하기 위한 파일 객체 생성\n",
    "with open(filename, 'w', encoding='utf-8') as file:\n",
    "    file.write('3과 5의 배수:\\n')\n",
    "    num = 1\n",
    "    while num <= 10000:\n",
    "        if num % 3 == 0 or num % 5 == 0:\n",
    "            file.write(str(num) + '\\n')\n",
    "        num += 1\n",
    "\n",
    "print(f'{filename}이(가) 생성되었습니다.')\n"
   ]
  },
  {
   "attachments": {},
   "cell_type": "markdown",
   "metadata": {},
   "source": [
    "##### 5번"
   ]
  },
  {
   "cell_type": "code",
   "execution_count": 27,
   "metadata": {},
   "outputs": [
    {
     "name": "stdout",
     "output_type": "stream",
     "text": [
      "2023\\07-04 09*55%00\n"
     ]
    }
   ],
   "source": [
    "import datetime as dt\n",
    "\n",
    "curr_dt = dt.datetime.now()\n",
    "fmt_dt = curr_dt.strftime('%Y\\\\%m-%d %H*%M%%%S')\n",
    "print(fmt_dt)"
   ]
  }
 ],
 "metadata": {
  "kernelspec": {
   "display_name": "Python 3",
   "language": "python",
   "name": "python3"
  },
  "language_info": {
   "codemirror_mode": {
    "name": "ipython",
    "version": 3
   },
   "file_extension": ".py",
   "mimetype": "text/x-python",
   "name": "python",
   "nbconvert_exporter": "python",
   "pygments_lexer": "ipython3",
   "version": "3.11.4"
  },
  "orig_nbformat": 4,
  "vscode": {
   "interpreter": {
    "hash": "5238573367df39f7286bb46f9ff5f08f63a01a80960060ce41e3c79b190280fa"
   }
  }
 },
 "nbformat": 4,
 "nbformat_minor": 2
}
